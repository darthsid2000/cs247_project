{
 "cells": [
  {
   "cell_type": "code",
   "execution_count": 1,
   "metadata": {},
   "outputs": [
    {
     "name": "stderr",
     "output_type": "stream",
     "text": [
      "c:\\Users\\bhull\\anaconda3\\envs\\247proj\\lib\\site-packages\\tqdm\\auto.py:21: TqdmWarning: IProgress not found. Please update jupyter and ipywidgets. See https://ipywidgets.readthedocs.io/en/stable/user_install.html\n",
      "  from .autonotebook import tqdm as notebook_tqdm\n"
     ]
    },
    {
     "name": "stdout",
     "output_type": "stream",
     "text": [
      "Coherence Score: 0.4173735200269252\n"
     ]
    }
   ],
   "source": [
    "from sklearn.datasets import fetch_20newsgroups\n",
    "from sklearn.feature_extraction.text import CountVectorizer\n",
    "from enstop import PLSA\n",
    "from gensim.models.coherencemodel import CoherenceModel\n",
    "from gensim import corpora\n",
    "\n",
    "# Fetch dataset\n",
    "news = fetch_20newsgroups(subset='all')\n",
    "texts = news.data\n",
    "\n",
    "# Preprocess the documents for Gensim coherence calculation\n",
    "processed_docs = [doc.lower().split() for doc in texts]  # Simple preprocessing\n",
    "\n",
    "# Create a dictionary and corpus for Gensim\n",
    "dictionary = corpora.Dictionary(processed_docs)\n",
    "corpus = [dictionary.doc2bow(doc) for doc in processed_docs]\n",
    "\n",
    "# Train pLSA model\n",
    "vectorizer = CountVectorizer()\n",
    "data = vectorizer.fit_transform(texts)\n",
    "model = PLSA(n_components=20).fit(data)\n",
    "\n",
    "# Get feature names\n",
    "feature_names = vectorizer.get_feature_names_out()\n",
    "\n",
    "# Extract top N words for each topic\n",
    "top_n = 10\n",
    "topics = []\n",
    "for topic_idx, topic in enumerate(model.components_):\n",
    "    top_features_ind = topic.argsort()[-top_n:][::-1]\n",
    "    top_features = [feature_names[i] for i in top_features_ind]\n",
    "    topics.append(top_features)\n",
    "\n",
    "# Calculate Coherence\n",
    "coherence_model = CoherenceModel(topics=topics, texts=processed_docs, dictionary=dictionary, coherence='c_v')\n",
    "coherence = coherence_model.get_coherence()\n",
    "\n",
    "print('Coherence Score:', coherence)\n"
   ]
  },
  {
   "cell_type": "code",
   "execution_count": 2,
   "metadata": {},
   "outputs": [
    {
     "name": "stdout",
     "output_type": "stream",
     "text": [
      "Accuracy: 0.4883289124668435\n"
     ]
    }
   ],
   "source": [
    "from sklearn.datasets import fetch_20newsgroups\n",
    "from sklearn.feature_extraction.text import CountVectorizer\n",
    "from enstop import PLSA\n",
    "from sklearn.model_selection import train_test_split\n",
    "from sklearn.linear_model import LogisticRegression\n",
    "from sklearn.metrics import accuracy_score\n",
    "\n",
    "# Load dataset\n",
    "news = fetch_20newsgroups(subset='all', remove=('headers', 'footers', 'quotes'))\n",
    "texts = news.data\n",
    "labels = news.target\n",
    "\n",
    "# Vectorize texts\n",
    "vectorizer = CountVectorizer(max_df=0.95, min_df=2, stop_words='english')\n",
    "X = vectorizer.fit_transform(texts)\n",
    "\n",
    "# Split data into training and testing sets\n",
    "X_train, X_test, y_train, y_test = train_test_split(X, labels, test_size=0.2, random_state=42)\n",
    "\n",
    "# Train pLSA model on training data\n",
    "plsa = PLSA(n_components=20, random_state=42)\n",
    "plsa.fit(X_train)\n",
    "\n",
    "# Transform both training and testing sets to topic distributions\n",
    "X_train_topics = plsa.transform(X_train)\n",
    "X_test_topics = plsa.transform(X_test)\n",
    "\n",
    "# Train a classifier on the training set topic distributions\n",
    "classifier = LogisticRegression(random_state=42, max_iter=1000)\n",
    "classifier.fit(X_train_topics, y_train)\n",
    "\n",
    "# Predict labels for the testing set\n",
    "y_pred = classifier.predict(X_test_topics)\n",
    "\n",
    "# Evaluate the classifier\n",
    "accuracy = accuracy_score(y_test, y_pred)\n",
    "print(f'Accuracy: {accuracy}')\n"
   ]
  },
  {
   "cell_type": "code",
   "execution_count": 1,
   "metadata": {},
   "outputs": [
    {
     "name": "stderr",
     "output_type": "stream",
     "text": [
      "[nltk_data] Error loading punkt: <urlopen error [WinError 10054] An\n",
      "[nltk_data]     existing connection was forcibly closed by the remote\n",
      "[nltk_data]     host>\n",
      "[nltk_data] Downloading package stopwords to\n",
      "[nltk_data]     C:\\Users\\bhull\\AppData\\Roaming\\nltk_data...\n",
      "[nltk_data]   Package stopwords is already up-to-date!\n",
      "[nltk_data] Downloading package wordnet to\n",
      "[nltk_data]     C:\\Users\\bhull\\AppData\\Roaming\\nltk_data...\n",
      "[nltk_data]   Package wordnet is already up-to-date!\n"
     ]
    },
    {
     "name": "stdout",
     "output_type": "stream",
     "text": [
      "Best parameters: {'clf__max_depth': None, 'clf__n_estimators': 200, 'svd__n_components': 200}\n",
      "Accuracy: 0.6074270557029178\n"
     ]
    }
   ],
   "source": [
    "############### SVD ###################\n",
    "\n",
    "from sklearn.datasets import fetch_20newsgroups\n",
    "from sklearn.feature_extraction.text import TfidfVectorizer\n",
    "from sklearn.model_selection import train_test_split, GridSearchCV\n",
    "from sklearn.pipeline import Pipeline\n",
    "from sklearn.decomposition import TruncatedSVD\n",
    "from sklearn.ensemble import RandomForestClassifier\n",
    "from sklearn.metrics import accuracy_score\n",
    "import nltk\n",
    "from nltk.corpus import stopwords\n",
    "from nltk.stem import WordNetLemmatizer\n",
    "from nltk.tokenize import word_tokenize\n",
    "\n",
    "# Download necessary NLTK datasets\n",
    "nltk.download('punkt')\n",
    "nltk.download('stopwords')\n",
    "nltk.download('wordnet')\n",
    "\n",
    "# Preprocessing function\n",
    "def preprocess(text):\n",
    "    stop_words = set(stopwords.words('english'))\n",
    "    lemmatizer = WordNetLemmatizer()\n",
    "    tokens = word_tokenize(text.lower())\n",
    "    tokens = [lemmatizer.lemmatize(w) for w in tokens if w.isalpha() and w not in stop_words]\n",
    "    return ' '.join(tokens)\n",
    "\n",
    "# Load dataset\n",
    "news = fetch_20newsgroups(subset='all', remove=('headers', 'footers', 'quotes'))\n",
    "texts = [preprocess(text) for text in news.data]\n",
    "labels = news.target\n",
    "\n",
    "# Vectorization and model training pipeline\n",
    "pipeline = Pipeline([\n",
    "    ('tfidf', TfidfVectorizer(stop_words='english', max_df=0.5, min_df=2)),\n",
    "    ('svd', TruncatedSVD(n_components=100, random_state=42)),\n",
    "    ('clf', RandomForestClassifier(random_state=42))\n",
    "])\n",
    "\n",
    "# Split data into training and testing sets\n",
    "X_train, X_test, y_train, y_test = train_test_split(texts, labels, test_size=0.2, random_state=42)\n",
    "\n",
    "# Parameter grid for grid search\n",
    "param_grid = {\n",
    "    'svd__n_components': [50, 100, 200],\n",
    "    'clf__n_estimators': [100, 200],\n",
    "    'clf__max_depth': [None, 10, 20],\n",
    "}\n",
    "\n",
    "# Grid search\n",
    "grid_search = GridSearchCV(pipeline, param_grid, cv=5, n_jobs=-1)\n",
    "grid_search.fit(X_train, y_train)\n",
    "\n",
    "# Predict labels for the testing set\n",
    "y_pred = grid_search.predict(X_test)\n",
    "\n",
    "# Evaluate the classifier\n",
    "accuracy = accuracy_score(y_test, y_pred)\n",
    "print(f'Best parameters: {grid_search.best_params_}')\n",
    "print(f'Accuracy: {accuracy}')\n"
   ]
  },
  {
   "cell_type": "code",
   "execution_count": 9,
   "metadata": {},
   "outputs": [
    {
     "name": "stdout",
     "output_type": "stream",
     "text": [
      "                          precision    recall  f1-score   support\n",
      "\n",
      "             alt.atheism       0.45      0.49      0.47       151\n",
      "           comp.graphics       0.48      0.46      0.47       202\n",
      " comp.os.ms-windows.misc       0.57      0.51      0.54       195\n",
      "comp.sys.ibm.pc.hardware       0.47      0.55      0.51       183\n",
      "   comp.sys.mac.hardware       0.66      0.52      0.58       205\n",
      "          comp.windows.x       0.65      0.72      0.68       215\n",
      "            misc.forsale       0.69      0.66      0.68       193\n",
      "               rec.autos       0.44      0.66      0.53       196\n",
      "         rec.motorcycles       0.49      0.61      0.54       168\n",
      "      rec.sport.baseball       0.78      0.69      0.73       211\n",
      "        rec.sport.hockey       0.81      0.81      0.81       198\n",
      "               sci.crypt       0.79      0.64      0.71       201\n",
      "         sci.electronics       0.54      0.46      0.49       202\n",
      "                 sci.med       0.62      0.78      0.69       194\n",
      "               sci.space       0.61      0.65      0.63       189\n",
      "  soc.religion.christian       0.62      0.82      0.71       202\n",
      "      talk.politics.guns       0.60      0.68      0.64       188\n",
      "   talk.politics.mideast       0.80      0.70      0.74       182\n",
      "      talk.politics.misc       0.60      0.44      0.51       159\n",
      "      talk.religion.misc       0.56      0.07      0.12       136\n",
      "\n",
      "                accuracy                           0.61      3770\n",
      "               macro avg       0.61      0.60      0.59      3770\n",
      "            weighted avg       0.62      0.61      0.60      3770\n",
      "\n"
     ]
    }
   ],
   "source": [
    "from sklearn import metrics\n",
    "print(metrics.classification_report(y_test, y_pred, target_names=news.target_names))"
   ]
  },
  {
   "cell_type": "code",
   "execution_count": 4,
   "metadata": {},
   "outputs": [
    {
     "data": {
      "image/png": "[encoded data removed]",
      "text/plain": [
       "<Figure size 1000x600 with 1 Axes>"
      ]
     },
     "metadata": {},
     "output_type": "display_data"
    }
   ],
   "source": [
    "# Assuming grid_search is your fitted GridSearchCV object\n",
    "best_pipeline = grid_search.best_estimator_\n",
    "\n",
    "# Now, you can access the RandomForestClassifier from the best_pipeline\n",
    "rf_classifier = best_pipeline.named_steps['clf']\n",
    "\n",
    "# Feature importances\n",
    "feature_importances = rf_classifier.feature_importances_\n",
    "\n",
    "# Plotting the feature importances\n",
    "import matplotlib.pyplot as plt\n",
    "\n",
    "plt.figure(figsize=(10, 6))\n",
    "plt.title(\"Feature Importances\")\n",
    "plt.bar(range(len(feature_importances)), feature_importances)\n",
    "plt.xlabel(\"Feature Indices\")\n",
    "plt.ylabel(\"Importance\")\n",
    "plt.show()\n"
   ]
  },
  {
   "cell_type": "code",
   "execution_count": 7,
   "metadata": {},
   "outputs": [
    {
     "data": {
      "image/png": "[encoded data removed]",
      "text/plain": [
       "<Figure size 1000x800 with 2 Axes>"
      ]
     },
     "metadata": {},
     "output_type": "display_data"
    }
   ],
   "source": [
    "from sklearn.metrics import confusion_matrix\n",
    "import seaborn as sns\n",
    "import matplotlib.pyplot as plt\n",
    "\n",
    "# Assuming y_test and y_pred are defined from your model's predictions\n",
    "cm = confusion_matrix(y_test, y_pred)\n",
    "plt.figure(figsize=(10, 8))\n",
    "sns.heatmap(cm, annot=True, fmt=\"d\", cmap=\"Blues\")\n",
    "plt.xlabel('Predicted labels')\n",
    "plt.ylabel('True labels')\n",
    "plt.title('Confusion Matrix')\n",
    "plt.show()\n"
   ]
  },
  {
   "cell_type": "code",
   "execution_count": 3,
   "metadata": {},
   "outputs": [],
   "source": [
    "from sklearn.base import BaseEstimator, TransformerMixin\n",
    "from enstop import PLSA\n",
    "\n",
    "class PLSATransformer(BaseEstimator, TransformerMixin):\n",
    "    def __init__(self, n_components=100):\n",
    "        self.model = None\n",
    "        self.n_components = n_components\n",
    "\n",
    "    def fit(self, X, y=None):\n",
    "        self.model = PLSA(n_components=self.n_components)\n",
    "        self.model.fit(X)\n",
    "        return self\n",
    "\n",
    "    def transform(self, X, y=None):\n",
    "        transformed = self.model.transform(X)\n",
    "        return transformed"
   ]
  },
  {
   "cell_type": "code",
   "execution_count": 4,
   "metadata": {},
   "outputs": [
    {
     "name": "stdout",
     "output_type": "stream",
     "text": [
      "Best parameters: {'clf__max_depth': None, 'clf__n_estimators': 200, 'plsa__n_components': 100}\n",
      "Accuracy: 0.5915119363395226\n"
     ]
    }
   ],
   "source": [
    "##################### pLSA #####################\n",
    "\n",
    "from sklearn.pipeline import Pipeline\n",
    "from sklearn.feature_extraction.text import CountVectorizer\n",
    "from sklearn.ensemble import RandomForestClassifier\n",
    "from sklearn.model_selection import train_test_split, GridSearchCV\n",
    "from sklearn.metrics import accuracy_score\n",
    "\n",
    "# Pipeline setup\n",
    "pipeline = Pipeline([\n",
    "    ('vect', CountVectorizer(stop_words='english', max_df=0.5, min_df=2)),\n",
    "    ('plsa', PLSATransformer(n_components=100)),\n",
    "    ('clf', RandomForestClassifier(random_state=42))\n",
    "])\n",
    "\n",
    "# Split data\n",
    "X_train, X_test, y_train, y_test = train_test_split(texts, labels, test_size=0.2, random_state=42)\n",
    "\n",
    "# Define parameter grid\n",
    "param_grid = {\n",
    "    'plsa__n_components': [50, 100, 150],\n",
    "    'clf__n_estimators': [100, 200],\n",
    "    'clf__max_depth': [None, 10, 20],\n",
    "}\n",
    "\n",
    "# Grid search\n",
    "grid_search = GridSearchCV(pipeline, param_grid, cv=5, n_jobs=-1)\n",
    "grid_search.fit(X_train, y_train)\n",
    "\n",
    "# Evaluate\n",
    "y_pred = grid_search.predict(X_test)\n",
    "accuracy = accuracy_score(y_test, y_pred)\n",
    "print(f'Best parameters: {grid_search.best_params_}')\n",
    "print(f'Accuracy: {accuracy}')\n"
   ]
  },
  {
   "cell_type": "code",
   "execution_count": 5,
   "metadata": {},
   "outputs": [
    {
     "name": "stdout",
     "output_type": "stream",
     "text": [
      "Best parameters: {'clf__max_depth': 20, 'clf__n_estimators': 200, 'lda__learning_decay': 0.5, 'lda__n_components': 25}\n",
      "Accuracy: 0.44482758620689655\n"
     ]
    }
   ],
   "source": [
    "from sklearn.pipeline import Pipeline\n",
    "from sklearn.feature_extraction.text import CountVectorizer\n",
    "from sklearn.decomposition import LatentDirichletAllocation\n",
    "from sklearn.ensemble import RandomForestClassifier\n",
    "from sklearn.model_selection import train_test_split, GridSearchCV\n",
    "from sklearn.metrics import accuracy_score\n",
    "\n",
    "# Pipeline setup with LDA for dimensionality reduction\n",
    "pipeline = Pipeline([\n",
    "    ('vect', CountVectorizer(stop_words='english', max_df=0.5, min_df=2)),\n",
    "    ('lda', LatentDirichletAllocation(random_state=42)),\n",
    "    ('clf', RandomForestClassifier(random_state=42))\n",
    "])\n",
    "\n",
    "# Assuming `texts` and `labels` are already defined and preprocessed\n",
    "X_train, X_test, y_train, y_test = train_test_split(texts, labels, test_size=0.2, random_state=42)\n",
    "\n",
    "\n",
    "# Define parameter grid for grid search\n",
    "param_grid = {\n",
    "    'lda__n_components': [10, 15, 20, 25],\n",
    "    'lda__learning_decay': [0.5, 0.7, 0.9],\n",
    "    'clf__n_estimators': [100, 200],\n",
    "    'clf__max_depth': [None, 10, 20],\n",
    "}\n",
    "\n",
    "# Grid search\n",
    "grid_search = GridSearchCV(pipeline, param_grid, cv=5, n_jobs=-1)\n",
    "grid_search.fit(X_train, y_train)\n",
    "\n",
    "# Evaluate\n",
    "y_pred = grid_search.predict(X_test)\n",
    "accuracy = accuracy_score(y_test, y_pred)\n",
    "print(f'Best parameters: {grid_search.best_params_}')\n",
    "print(f'Accuracy: {accuracy}')\n"
   ]
  }
 ],
 "metadata": {
  "kernelspec": {
   "display_name": "247proj",
   "language": "python",
   "name": "python3"
  },
  "language_info": {
   "codemirror_mode": {
    "name": "ipython",
    "version": 3
   },
   "file_extension": ".py",
   "mimetype": "text/x-python",
   "name": "python",
   "nbconvert_exporter": "python",
   "pygments_lexer": "ipython3",
   "version": "3.10.13"
  }
 },
 "nbformat": 4,
 "nbformat_minor": 2
}
